{
 "cells": [
  {
   "cell_type": "markdown",
   "id": "364ae708-ff30-4fc5-b978-6246e29da1e4",
   "metadata": {},
   "source": [
    "<p style=\"text-align:center\">\n",
    "    <a href=\"https://skills.network\" target=\"_blank\">\n",
    "    <img src=\"https://cf-courses-data.s3.us.cloud-object-storage.appdomain.cloud/assets/logos/SN_web_lightmode.png\" width=\"300\" alt=\"Skills Network Logo\">\n",
    "    </a>\n",
    "</p>\n"
   ]
  },
  {
   "cell_type": "markdown",
   "id": "67ca7246-a739-4e4d-b229-3c038ab4398c",
   "metadata": {},
   "source": [
    "# **Hands-on Practice Lab: Data Wrangling**\n",
    "\n",
    "Estimated time needed: **30** minutes\n",
    "\n",
    "In this lab, you will use the skills acquired in the module and address the issues of handling missing data, correct the data type of the dataframe attribute and execute the processes of data standardization and data normalization on specific attributes of the dataset.\n"
   ]
  },
  {
   "cell_type": "markdown",
   "id": "c1a76f95-a6d1-4083-9a23-626ee4787a06",
   "metadata": {},
   "source": [
    "# Objectives\n",
    "\n",
    "After completing this lab you will be able to:\n",
    "\n",
    " - Handle missing data in different ways\n",
    " - Correct the data type of different data values as per requirement\n",
    " - Standardize and normalize the appropriate data attributes\n",
    " - Visualize the data as grouped bar graph using Binning\n",
    " - Cnverting a categorical data into numerical indicator variables\n"
   ]
  },
  {
   "cell_type": "markdown",
   "id": "8c090985-f011-4a2c-9483-9f6d36c8f06d",
   "metadata": {},
   "source": [
    "# Setup\n"
   ]
  },
  {
   "cell_type": "markdown",
   "id": "1dc1fb0b-378e-4efc-ac0c-338e5be7a245",
   "metadata": {},
   "source": [
    "For this lab, we will be using the following libraries:\n",
    "\n",
    "* `skillsnetwork` to download the dataset\n",
    "*   [`pandas`](https://pandas.pydata.org/?utm_medium=Exinfluencer&utm_source=Exinfluencer&utm_content=000026UJ&utm_term=10006555&utm_id=NA-SkillsNetwork-Channel-SkillsNetworkCoursesIBMML0187ENSkillsNetwork31430127-2021-01-01) for managing the data.\n",
    "*   [`numpy`](https://numpy.org/?utm_medium=Exinfluencer&utm_source=Exinfluencer&utm_content=000026UJ&utm_term=10006555&utm_id=NA-SkillsNetwork-Channel-SkillsNetworkCoursesIBMML0187ENSkillsNetwork31430127-2021-01-01) for mathematical operations.\n",
    "*   [`matplotlib`](https://matplotlib.org/?utm_medium=Exinfluencer&utm_source=Exinfluencer&utm_content=000026UJ&utm_term=10006555&utm_id=NA-SkillsNetwork-Channel-SkillsNetworkCoursesIBMML0187ENSkillsNetwork31430127-2021-01-01) for additional plotting tools.\n"
   ]
  },
  {
   "cell_type": "markdown",
   "id": "78cdf911-a257-40ed-a8c9-27331ce4b9cb",
   "metadata": {},
   "source": [
    "### Importing Required Libraries\n",
    "\n",
    "_We recommend you import all required libraries in one place (here):_\n"
   ]
  },
  {
   "cell_type": "code",
   "execution_count": 1,
   "id": "420c0d1c-c2bb-4033-a618-228a8ca03f8c",
   "metadata": {},
   "outputs": [],
   "source": [
    "import numpy as np\n",
    "import pandas as pd\n",
    "import matplotlib.pyplot as plt\n",
    "%matplotlib inline"
   ]
  },
  {
   "cell_type": "markdown",
   "id": "b378cf7a-f902-47ae-af3b-fe64d0740e60",
   "metadata": {},
   "source": [
    "Download the updated dataset by running the cell below.\n",
    "\n",
    "The functions below will download the dataset into your browser:\n"
   ]
  },
  {
   "cell_type": "code",
   "execution_count": 2,
   "id": "ee0a0c1c-a08a-4c51-a192-3663539997fb",
   "metadata": {},
   "outputs": [
    {
     "ename": "ModuleNotFoundError",
     "evalue": "No module named 'pyodide'",
     "output_type": "error",
     "traceback": [
      "\u001b[31m---------------------------------------------------------------------------\u001b[39m",
      "\u001b[31mModuleNotFoundError\u001b[39m                       Traceback (most recent call last)",
      "\u001b[36mCell\u001b[39m\u001b[36m \u001b[39m\u001b[32mIn[2]\u001b[39m\u001b[32m, line 1\u001b[39m\n\u001b[32m----> \u001b[39m\u001b[32m1\u001b[39m \u001b[38;5;28;01mfrom\u001b[39;00m\u001b[38;5;250m \u001b[39m\u001b[34;01mpyodide\u001b[39;00m\u001b[34;01m.\u001b[39;00m\u001b[34;01mhttp\u001b[39;00m\u001b[38;5;250m \u001b[39m\u001b[38;5;28;01mimport\u001b[39;00m pyfetch\n\u001b[32m      3\u001b[39m \u001b[38;5;28;01masync\u001b[39;00m \u001b[38;5;28;01mdef\u001b[39;00m\u001b[38;5;250m \u001b[39m\u001b[34mdownload\u001b[39m(url, filename):\n\u001b[32m      4\u001b[39m     response = \u001b[38;5;28;01mawait\u001b[39;00m pyfetch(url)\n",
      "\u001b[31mModuleNotFoundError\u001b[39m: No module named 'pyodide'"
     ]
    }
   ],
   "source": [
    "from pyodide.http import pyfetch\n",
    "\n",
    "async def download(url, filename):\n",
    "    response = await pyfetch(url)\n",
    "    if response.status == 200:\n",
    "        with open(filename, \"wb\") as f:\n",
    "            f.write(await response.bytes())"
   ]
  },
  {
   "cell_type": "code",
   "execution_count": null,
   "id": "f3cfcff8-98ae-4457-9fbb-55385fdaf7c6",
   "metadata": {},
   "outputs": [],
   "source": [
    "file_path= \"https://cf-courses-data.s3.us.cloud-object-storage.appdomain.cloud/IBMDeveloperSkillsNetwork-DA0101EN-Coursera/laptop_pricing_dataset_mod1.csv\""
   ]
  },
  {
   "cell_type": "markdown",
   "id": "5616af66-212f-4ef4-9295-3d47eee14c3c",
   "metadata": {},
   "source": [
    "To obtain the dataset, utilize the download() function as defined above:\n"
   ]
  },
  {
   "cell_type": "code",
   "execution_count": null,
   "id": "ba766136-c130-44ce-9ad0-ae6a759ba0b6",
   "metadata": {},
   "outputs": [],
   "source": [
    "await download(file_path, \"laptops.csv\")\n"
   ]
  },
  {
   "cell_type": "markdown",
   "id": "144bb827-ed87-49a3-b470-97220ddab7bd",
   "metadata": {},
   "source": [
    "First we load data into a `pandas.DataFrame`:\n"
   ]
  },
  {
   "cell_type": "code",
   "execution_count": 54,
   "id": "58a5576f-7726-4477-bc71-f2d76ba200b3",
   "metadata": {},
   "outputs": [],
   "source": [
    "file_name=\"laptop_pricing_dataset_mod1.csv\"\n",
    "df = pd.read_csv(file_name, header=0)"
   ]
  },
  {
   "cell_type": "markdown",
   "id": "66fb3971-ad1f-4be6-9890-318c28560081",
   "metadata": {},
   "source": [
    "> Note: This version of the lab is working on JupyterLite, which requires the dataset to be downloaded to the interface.While working on the downloaded version of this notebook on their local machines(Jupyter Anaconda), the learners can simply **skip the steps above,** and simply use the URL directly in the `pandas.read_csv()` function. You can uncomment and run the statements in the cell below.\n"
   ]
  },
  {
   "cell_type": "code",
   "execution_count": null,
   "id": "16f1eb29-721f-467c-b899-08867b9678ba",
   "metadata": {},
   "outputs": [],
   "source": [
    "#filepath = \"https://cf-courses-data.s3.us.cloud-object-storage.appdomain.cloud/IBMDeveloperSkillsNetwork-DA0101EN-Coursera/laptop_pricing_dataset_mod1.csv\"\n",
    "#df = pd.read_csv(filepath, header=None)"
   ]
  },
  {
   "cell_type": "markdown",
   "id": "5f68f293-9dc0-41c3-b588-b9d4bbdd6e6e",
   "metadata": {},
   "source": [
    "Verify loading by displaying the dataframe summary using `dataframe.info()`\n"
   ]
  },
  {
   "cell_type": "code",
   "execution_count": 5,
   "id": "6ebdabd9-605d-46ea-ac23-b638c86db530",
   "metadata": {},
   "outputs": [
    {
     "name": "stdout",
     "output_type": "stream",
     "text": [
      "<class 'pandas.core.frame.DataFrame'>\n",
      "RangeIndex: 238 entries, 0 to 237\n",
      "Data columns (total 13 columns):\n",
      " #   Column          Non-Null Count  Dtype  \n",
      "---  ------          --------------  -----  \n",
      " 0   Unnamed: 0      238 non-null    int64  \n",
      " 1   Manufacturer    238 non-null    object \n",
      " 2   Category        238 non-null    int64  \n",
      " 3   Screen          238 non-null    object \n",
      " 4   GPU             238 non-null    int64  \n",
      " 5   OS              238 non-null    int64  \n",
      " 6   CPU_core        238 non-null    int64  \n",
      " 7   Screen_Size_cm  234 non-null    float64\n",
      " 8   CPU_frequency   238 non-null    float64\n",
      " 9   RAM_GB          238 non-null    int64  \n",
      " 10  Storage_GB_SSD  238 non-null    int64  \n",
      " 11  Weight_kg       233 non-null    float64\n",
      " 12  Price           238 non-null    int64  \n",
      "dtypes: float64(3), int64(8), object(2)\n",
      "memory usage: 24.3+ KB\n",
      "None\n"
     ]
    }
   ],
   "source": [
    "print(df.info())"
   ]
  },
  {
   "cell_type": "markdown",
   "id": "321859fd-9dfb-4665-be79-ddb65a9b8449",
   "metadata": {},
   "source": [
    "View the first 5 values of the updated dataframe using `dataframe.head()`\n"
   ]
  },
  {
   "cell_type": "code",
   "execution_count": null,
   "id": "48d6d0cb-70c9-4457-97d6-e8a480e5de1b",
   "metadata": {},
   "outputs": [],
   "source": [
    "df.head()"
   ]
  },
  {
   "cell_type": "markdown",
   "id": "c075344f-3181-4b38-a828-7f5c7e96210b",
   "metadata": {},
   "source": [
    "Note that we can update the `Screen_Size_cm` column such that all values are rounded to nearest 2 decimal places by using `numpy.round()`\n"
   ]
  },
  {
   "cell_type": "code",
   "execution_count": 55,
   "id": "8693ce28-c292-4455-a0e4-580d886f5e0f",
   "metadata": {},
   "outputs": [
    {
     "data": {
      "text/html": [
       "<div>\n",
       "<style scoped>\n",
       "    .dataframe tbody tr th:only-of-type {\n",
       "        vertical-align: middle;\n",
       "    }\n",
       "\n",
       "    .dataframe tbody tr th {\n",
       "        vertical-align: top;\n",
       "    }\n",
       "\n",
       "    .dataframe thead th {\n",
       "        text-align: right;\n",
       "    }\n",
       "</style>\n",
       "<table border=\"1\" class=\"dataframe\">\n",
       "  <thead>\n",
       "    <tr style=\"text-align: right;\">\n",
       "      <th></th>\n",
       "      <th>Unnamed: 0</th>\n",
       "      <th>Manufacturer</th>\n",
       "      <th>Category</th>\n",
       "      <th>Screen</th>\n",
       "      <th>GPU</th>\n",
       "      <th>OS</th>\n",
       "      <th>CPU_core</th>\n",
       "      <th>Screen_Size_cm</th>\n",
       "      <th>CPU_frequency</th>\n",
       "      <th>RAM_GB</th>\n",
       "      <th>Storage_GB_SSD</th>\n",
       "      <th>Weight_kg</th>\n",
       "      <th>Price</th>\n",
       "    </tr>\n",
       "  </thead>\n",
       "  <tbody>\n",
       "    <tr>\n",
       "      <th>0</th>\n",
       "      <td>0</td>\n",
       "      <td>Acer</td>\n",
       "      <td>4</td>\n",
       "      <td>IPS Panel</td>\n",
       "      <td>2</td>\n",
       "      <td>1</td>\n",
       "      <td>5</td>\n",
       "      <td>35.56</td>\n",
       "      <td>1.6</td>\n",
       "      <td>8</td>\n",
       "      <td>256</td>\n",
       "      <td>1.60</td>\n",
       "      <td>978</td>\n",
       "    </tr>\n",
       "    <tr>\n",
       "      <th>1</th>\n",
       "      <td>1</td>\n",
       "      <td>Dell</td>\n",
       "      <td>3</td>\n",
       "      <td>Full HD</td>\n",
       "      <td>1</td>\n",
       "      <td>1</td>\n",
       "      <td>3</td>\n",
       "      <td>39.62</td>\n",
       "      <td>2.0</td>\n",
       "      <td>4</td>\n",
       "      <td>256</td>\n",
       "      <td>2.20</td>\n",
       "      <td>634</td>\n",
       "    </tr>\n",
       "    <tr>\n",
       "      <th>2</th>\n",
       "      <td>2</td>\n",
       "      <td>Dell</td>\n",
       "      <td>3</td>\n",
       "      <td>Full HD</td>\n",
       "      <td>1</td>\n",
       "      <td>1</td>\n",
       "      <td>7</td>\n",
       "      <td>39.62</td>\n",
       "      <td>2.7</td>\n",
       "      <td>8</td>\n",
       "      <td>256</td>\n",
       "      <td>2.20</td>\n",
       "      <td>946</td>\n",
       "    </tr>\n",
       "    <tr>\n",
       "      <th>3</th>\n",
       "      <td>3</td>\n",
       "      <td>Dell</td>\n",
       "      <td>4</td>\n",
       "      <td>IPS Panel</td>\n",
       "      <td>2</td>\n",
       "      <td>1</td>\n",
       "      <td>5</td>\n",
       "      <td>33.78</td>\n",
       "      <td>1.6</td>\n",
       "      <td>8</td>\n",
       "      <td>128</td>\n",
       "      <td>1.22</td>\n",
       "      <td>1244</td>\n",
       "    </tr>\n",
       "    <tr>\n",
       "      <th>4</th>\n",
       "      <td>4</td>\n",
       "      <td>HP</td>\n",
       "      <td>4</td>\n",
       "      <td>Full HD</td>\n",
       "      <td>2</td>\n",
       "      <td>1</td>\n",
       "      <td>7</td>\n",
       "      <td>39.62</td>\n",
       "      <td>1.8</td>\n",
       "      <td>8</td>\n",
       "      <td>256</td>\n",
       "      <td>1.91</td>\n",
       "      <td>837</td>\n",
       "    </tr>\n",
       "  </tbody>\n",
       "</table>\n",
       "</div>"
      ],
      "text/plain": [
       "   Unnamed: 0 Manufacturer  Category     Screen  GPU  OS  CPU_core  \\\n",
       "0           0         Acer         4  IPS Panel    2   1         5   \n",
       "1           1         Dell         3    Full HD    1   1         3   \n",
       "2           2         Dell         3    Full HD    1   1         7   \n",
       "3           3         Dell         4  IPS Panel    2   1         5   \n",
       "4           4           HP         4    Full HD    2   1         7   \n",
       "\n",
       "   Screen_Size_cm  CPU_frequency  RAM_GB  Storage_GB_SSD  Weight_kg  Price  \n",
       "0           35.56            1.6       8             256       1.60    978  \n",
       "1           39.62            2.0       4             256       2.20    634  \n",
       "2           39.62            2.7       8             256       2.20    946  \n",
       "3           33.78            1.6       8             128       1.22   1244  \n",
       "4           39.62            1.8       8             256       1.91    837  "
      ]
     },
     "execution_count": 55,
     "metadata": {},
     "output_type": "execute_result"
    }
   ],
   "source": [
    "df[['Screen_Size_cm']] = np.round(df[['Screen_Size_cm']],2)\n",
    "df.head()"
   ]
  },
  {
   "cell_type": "markdown",
   "id": "8e4fabaf-351e-49ce-900c-d6ee5338d76d",
   "metadata": {},
   "source": [
    "# Task - 1\n",
    "\n",
    "### Evaluate the dataset for missing data\n",
    "Missing data was last converted from '?' to numpy.NaN. Pandas uses NaN and Null values interchangeably. This means, you can just identify the entries having Null values. Write a code that identifies which columns have missing data. \n"
   ]
  },
  {
   "cell_type": "code",
   "execution_count": 56,
   "id": "a1e54c03-0485-4470-ae59-035d6db148ac",
   "metadata": {},
   "outputs": [
    {
     "name": "stdout",
     "output_type": "stream",
     "text": [
      "There are 4 missing values in the Screen_Size_cm column\n",
      "There are 5 missing values in the Weight_kg column\n"
     ]
    }
   ],
   "source": [
    "# Write your code below and press Shift+Enter to execute\n",
    "miss = df.isnull().sum(axis=0)\n",
    "cols_with_nans = []\n",
    "for col, val in miss.items():\n",
    "    if val > 0:\n",
    "        cols_with_nans.append(col)\n",
    "        print(f\"There are {val} missing values in the {col} column\")"
   ]
  },
  {
   "cell_type": "markdown",
   "id": "7421f7fa-999a-4259-93ce-ecd4e893c2b4",
   "metadata": {},
   "source": [
    "<details><summary>Click here for the solution</summary>\n",
    "\n",
    "```python\n",
    "missing_data = df.isnull()\n",
    "print(missing_data.head())\n",
    "for column in missing_data.columns.values.tolist():\n",
    "    print(column)\n",
    "    print (missing_data[column].value_counts())\n",
    "    print(\"\")  \n",
    "```\n",
    "\n",
    "</details>\n"
   ]
  },
  {
   "cell_type": "markdown",
   "id": "18f691fb-1a21-4030-9f09-52ea72f20f19",
   "metadata": {},
   "source": [
    "# Task - 2\n",
    "\n",
    "### Replace with mean\n",
    "Missing values in attributes that have continuous data are best replaced using Mean value. We note that values in \"Weight_kg\" attribute are continuous in nature, and some values are missing. Therefore, write a code to replace the missing values of weight with the average value of the attribute.\n"
   ]
  },
  {
   "cell_type": "code",
   "execution_count": 57,
   "id": "ef614202-33f4-44fc-81dd-33a687a01edf",
   "metadata": {},
   "outputs": [
    {
     "name": "stdout",
     "output_type": "stream",
     "text": [
      "1.8622317596566522\n"
     ]
    },
    {
     "name": "stderr",
     "output_type": "stream",
     "text": [
      "/tmp/ipykernel_2564/1499095916.py:5: FutureWarning: A value is trying to be set on a copy of a DataFrame or Series through chained assignment using an inplace method.\n",
      "The behavior will change in pandas 3.0. This inplace method will never work because the intermediate object on which we are setting values always behaves as a copy.\n",
      "\n",
      "For example, when doing 'df[col].method(value, inplace=True)', try using 'df.method({col: value}, inplace=True)' or df[col] = df[col].method(value) instead, to perform the operation inplace on the original object.\n",
      "\n",
      "\n",
      "  df[\"Weight_kg\"].fillna(mean_val, inplace=True)\n"
     ]
    }
   ],
   "source": [
    "# Write your code below and press Shift+Enter to execute\n",
    "mean_val = df[\"Weight_kg\"].mean()\n",
    "print(mean_val)\n",
    "\n",
    "df[\"Weight_kg\"].fillna(mean_val, inplace=True)"
   ]
  },
  {
   "cell_type": "markdown",
   "id": "f7f4e29a-823a-4d39-9316-7f4c0c463709",
   "metadata": {},
   "source": [
    "<details>\n",
    "    <summary>Click here for the solution</summary>\n",
    "    \n",
    "```python\n",
    "# replacing missing data with mean\n",
    "avg_weight=df['Weight_kg'].astype('float').mean(axis=0)\n",
    "df[\"Weight_kg\"].replace(np.nan, avg_weight, inplace=True)\n",
    "\n",
    "# astype() function converts the values to the desired data type\n",
    "# axis=0 indicates that the mean value is to calculated across all column elements in a row.\n",
    "```\n",
    "\n",
    "</details>\n"
   ]
  },
  {
   "cell_type": "markdown",
   "id": "107d7e07-bc60-45c2-ad34-f4f718da32f6",
   "metadata": {},
   "source": [
    "### Replace with the most frequent value\n",
    "Missing values in attributes that have categorical data are best replaced using the most frequent value. We note that values in \"Screen_Size_cm\" attribute are categorical in nature, and some values are missing. Therefore, write a code to replace the missing values of Screen Size with the most frequent value of the attribute.\n"
   ]
  },
  {
   "cell_type": "code",
   "execution_count": 58,
   "id": "0a97110a-81d8-4f11-8b55-bbc50dd6d962",
   "metadata": {},
   "outputs": [
    {
     "name": "stdout",
     "output_type": "stream",
     "text": [
      "39.62\n"
     ]
    },
    {
     "name": "stderr",
     "output_type": "stream",
     "text": [
      "/tmp/ipykernel_2564/3509508591.py:4: FutureWarning: A value is trying to be set on a copy of a DataFrame or Series through chained assignment using an inplace method.\n",
      "The behavior will change in pandas 3.0. This inplace method will never work because the intermediate object on which we are setting values always behaves as a copy.\n",
      "\n",
      "For example, when doing 'df[col].method(value, inplace=True)', try using 'df.method({col: value}, inplace=True)' or df[col] = df[col].method(value) instead, to perform the operation inplace on the original object.\n",
      "\n",
      "\n",
      "  df[\"Screen_Size_cm\"].fillna(most_freq_val, inplace=True)\n"
     ]
    }
   ],
   "source": [
    "# Write your code below and press Shift+Enter to execute\n",
    "most_freq_val = df[\"Screen_Size_cm\"].value_counts().idxmax()\n",
    "print(most_freq_val)\n",
    "df[\"Screen_Size_cm\"].fillna(most_freq_val, inplace=True)"
   ]
  },
  {
   "cell_type": "markdown",
   "id": "42335732-31e3-41c4-89cc-304290077a72",
   "metadata": {},
   "source": [
    "<details>\n",
    "    <summary>Click here for the solution</summary>\n",
    "    \n",
    "```python\n",
    "# replacing missing data with mode\n",
    "common_screen_size = df['Screen_Size_cm'].value_counts().idxmax()\n",
    "df[\"Screen_Size_cm\"].replace(np.nan, common_screen_size, inplace=True)\n",
    "```\n",
    "</details>\n"
   ]
  },
  {
   "cell_type": "markdown",
   "id": "ce202ef1-a437-4528-b353-aec516e81578",
   "metadata": {},
   "source": [
    "# Task - 3\n",
    "\n",
    "### Fixing the data types\n",
    "Both \"Weight_kg\" and \"Screen_Size_cm\" are seen to have the data type \"Object\", while both of them should be having a data type of \"float\". Write a code to fix the data type of these two columns.\n"
   ]
  },
  {
   "cell_type": "code",
   "execution_count": 59,
   "id": "42fb9f8c-0990-409b-892c-41009d8b00f3",
   "metadata": {},
   "outputs": [
    {
     "data": {
      "text/plain": [
       "Unnamed: 0          int64\n",
       "Manufacturer       object\n",
       "Category            int64\n",
       "Screen             object\n",
       "GPU                 int64\n",
       "OS                  int64\n",
       "CPU_core            int64\n",
       "Screen_Size_cm    float64\n",
       "CPU_frequency     float64\n",
       "RAM_GB              int64\n",
       "Storage_GB_SSD      int64\n",
       "Weight_kg         float64\n",
       "Price               int64\n",
       "dtype: object"
      ]
     },
     "execution_count": 59,
     "metadata": {},
     "output_type": "execute_result"
    }
   ],
   "source": [
    "# Write your code below and press Shift+Enter to execute\n",
    "df.dtypes"
   ]
  },
  {
   "cell_type": "markdown",
   "id": "d845c760-535b-492a-803d-23eb058be5bb",
   "metadata": {},
   "source": [
    "<details>\n",
    "    <summary>Click here for Solution</summary>\n",
    "\n",
    "```python\n",
    "df[[\"Weight_kg\",\"Screen_Size_cm\"]] = df[[\"Weight_kg\",\"Screen_Size_cm\"]].astype(\"float\")\n",
    "```\n",
    "\n",
    "</details>\n"
   ]
  },
  {
   "cell_type": "markdown",
   "id": "1f4d4c33-f22f-4b31-8812-54bcda2d8c89",
   "metadata": {},
   "source": [
    "# Task - 4\n",
    "\n",
    "### Data Standardization\n",
    "The value of Screen_size usually has a standard unit of inches. Similarly, weight of the laptop is needed to be in pounds. Use the below mentioned units of conversion and write a code to modify the columns of the dataframe accordingly. Update their names as well.\n",
    "\n",
    "```{math}\n",
    "1 inch = 2.54 cm\n",
    "1 kg   = 2.205 pounds\n",
    "```\n"
   ]
  },
  {
   "cell_type": "code",
   "execution_count": 60,
   "id": "3e7b4c31-2110-484e-abab-04e47112b221",
   "metadata": {},
   "outputs": [],
   "source": [
    "# Write your code below and press Shift+Enter to execute\n",
    "df[\"Screen_Size_cm\"] = df[\"Screen_Size_cm\"]/2.54\n",
    "df.rename(columns={\"Screen_Size_cm\":\"Screen_Size_inch\"}, inplace=True)\n",
    "\n",
    "df[\"Weight_kg\"] = df[\"Weight_kg\"]*2.205\n",
    "df.rename(columns={\"Weight_kg\":\"Weight_pounds\"}, inplace=True)"
   ]
  },
  {
   "cell_type": "markdown",
   "id": "c6399115-6988-4723-a5f6-d6482b4b6a9d",
   "metadata": {},
   "source": [
    "<details>\n",
    "    <summary>Click here for Solution</summary>\n",
    "\n",
    "```python\n",
    "# Data standardization: convert weight from kg to pounds\n",
    "df[\"Weight_kg\"] = df[\"Weight_kg\"]*2.205\n",
    "df.rename(columns={'Weight_kg':'Weight_pounds'}, inplace=True)\n",
    "\n",
    "# Data standardization: convert screen size from cm to inch\n",
    "df[\"Screen_Size_cm\"] = df[\"Screen_Size_cm\"]/2.54\n",
    "df.rename(columns={'Screen_Size_cm':'Screen_Size_inch'}, inplace=True)\n",
    "```\n",
    "</details>\n"
   ]
  },
  {
   "cell_type": "markdown",
   "id": "60435e08-5ca6-4eaf-a434-eea342f3f62c",
   "metadata": {},
   "source": [
    "### Data Normalization\n",
    "Often it is required to normalize a continuous data attribute. Write a code to normalize the \"CPU_frequency\" attribute with respect to the maximum value available in the dataset.\n"
   ]
  },
  {
   "cell_type": "code",
   "execution_count": 61,
   "id": "e3cb326d-fba9-4727-a74b-8bdcf852fd3b",
   "metadata": {},
   "outputs": [],
   "source": [
    "# Write your code below and press Shift+Enter to execute\n",
    "df[\"CPU_frequency\"] = df[\"CPU_frequency\"]/df[\"CPU_frequency\"].max()"
   ]
  },
  {
   "cell_type": "markdown",
   "id": "5772dd17-e1fa-4988-b5a2-98b4fbe69329",
   "metadata": {},
   "source": [
    "<details>\n",
    "    <summary>Click here for Solution</summary>\n",
    "\n",
    "```python\n",
    "df['CPU_frequency'] = df['CPU_frequency']/df['CPU_frequency'].max()\n",
    "```\n",
    "</details>\n"
   ]
  },
  {
   "cell_type": "markdown",
   "id": "e88ffa12-723b-4c3a-be31-5c20b95f5d7f",
   "metadata": {},
   "source": [
    "# Task - 5\n",
    "\n",
    "### Binning\n",
    "Binning is a process of creating a categorical attribute which splits the values of a continuous data into a specified number of groups. In this case, write a code to create 3 bins for the attribute \"Price\". These bins would be named \"Low\", \"Medium\" and \"High\". The new attribute will be named \"Price-binned\".\n"
   ]
  },
  {
   "cell_type": "code",
   "execution_count": 62,
   "id": "04181432-01d0-44f8-a919-4bbf53df963e",
   "metadata": {},
   "outputs": [],
   "source": [
    "# Write your code below and press Shift+Enter to execute\n",
    "bins = np.linspace(df[\"Price\"].min(), df[\"Price\"].max(), 4)\n",
    "names = [\"Low\", \"Medium\", \"High\"]\n",
    "df[\"Price-binned\"] = pd.cut(df[\"Price\"], bins, labels=names, include_lowest=True)"
   ]
  },
  {
   "cell_type": "markdown",
   "id": "b24a690a-600b-4d71-92eb-feb8452bbc4e",
   "metadata": {},
   "source": [
    "<details>\n",
    "    <summary>Click here for Solution</summary>\n",
    "\n",
    "```python\n",
    "bins = np.linspace(min(df[\"Price\"]), max(df[\"Price\"]), 4)\n",
    "group_names = ['Low', 'Medium', 'High']\n",
    "df['Price-binned'] = pd.cut(df['Price'], bins, labels=group_names, include_lowest=True )\n",
    "```\n",
    "</details>\n"
   ]
  },
  {
   "cell_type": "markdown",
   "id": "5db21abd-9046-4400-88d5-e9018b7ea8ce",
   "metadata": {},
   "source": [
    "Also, plot the bar graph of these bins.\n"
   ]
  },
  {
   "cell_type": "code",
   "execution_count": 63,
   "id": "c693bb2c-5f1b-4ed2-9c85-1fbffa37395c",
   "metadata": {},
   "outputs": [
    {
     "data": {
      "image/png": "[encoded data removed]",
      "text/plain": [
       "<Figure size 640x480 with 1 Axes>"
      ]
     },
     "metadata": {},
     "output_type": "display_data"
    }
   ],
   "source": [
    "# Write your code below and press Shift+Enter to execute\n",
    "plot = plt.bar(names, df[\"Price-binned\"].value_counts())"
   ]
  },
  {
   "cell_type": "markdown",
   "id": "5dce9151-7eee-4acb-b032-194f276e9345",
   "metadata": {},
   "source": [
    "<details>\n",
    "    <summary>Click here for Solution</summary>\n",
    "\n",
    "```python\n",
    "plt.bar(group_names, df[\"Price-binned\"].value_counts())\n",
    "plt.xlabel(\"Price\")\n",
    "plt.ylabel(\"count\")\n",
    "plt.title(\"Price bins\")\n",
    "```\n",
    "</details>\n"
   ]
  },
  {
   "cell_type": "markdown",
   "id": "f8eca34f-26d6-48b0-ae7b-3b8de80d9dcb",
   "metadata": {},
   "source": [
    "# Task - 6\n",
    "\n",
    "### Indicator variables\n",
    "Convert the \"Screen\" attribute of the dataset into 2 indicator variables, \"Screen-IPS_panel\" and \"Screen-Full_HD\". Then drop the \"Screen\" attribute from the dataset.\n"
   ]
  },
  {
   "cell_type": "code",
   "execution_count": null,
   "id": "00dc84e5-08ff-4123-bc9f-1d1b32b0029d",
   "metadata": {},
   "outputs": [],
   "source": [
    "# Write your code below and press Shift+Enter to execute\n",
    "df = pd.get_dummies(df, columns=[\"Screen\"])\n",
    "df.head()\n",
    "df.rename(columns={'Screen_IPS Panel': 'Screen-IPS_panel', 'Screen_Full HD': 'Screen-Full_HD'}, inplace=True)"
   ]
  },
  {
   "cell_type": "markdown",
   "id": "36fed0cf-c94a-4278-b2f4-2614e64cc123",
   "metadata": {},
   "source": [
    "<details>\n",
    "    <summary>Click here for Solution</summary>\n",
    "\n",
    "```python\n",
    "#Indicator Variable: Screen\n",
    "dummy_variable_1 = pd.get_dummies(df[\"Screen\"])\n",
    "dummy_variable_1.rename(columns={'IPS Panel':'Screen-IPS_panel', 'Full HD':'Screen-Full_HD'}, inplace=True)\n",
    "df = pd.concat([df, dummy_variable_1], axis=1)\n",
    "\n",
    "# drop original column \"Screen\" from \"df\"\n",
    "df.drop(\"Screen\", axis = 1, inplace=True)\n",
    "```\n",
    "\n",
    "</details>\n"
   ]
  },
  {
   "cell_type": "markdown",
   "id": "9fc13e63-2cb9-4985-88d2-8e6b84e3d199",
   "metadata": {},
   "source": [
    "This version of the dataset, now finalized, is the one you'll be using in all subsequent modules. \n"
   ]
  },
  {
   "cell_type": "markdown",
   "id": "fdc11bad-99f7-4ea3-b459-856bf92d9277",
   "metadata": {},
   "source": [
    "Print the content of dataframe.head() to verify the changes that were made to the dataset.\n"
   ]
  },
  {
   "cell_type": "code",
   "execution_count": 67,
   "id": "60b3d0da-09db-4045-8153-dc482badc546",
   "metadata": {},
   "outputs": [
    {
     "name": "stdout",
     "output_type": "stream",
     "text": [
      "   Unnamed: 0 Manufacturer  Category  GPU  OS  CPU_core  Screen_Size_inch  \\\n",
      "0           0         Acer         4    2   1         5         14.000000   \n",
      "1           1         Dell         3    1   1         3         15.598425   \n",
      "2           2         Dell         3    1   1         7         15.598425   \n",
      "3           3         Dell         4    2   1         5         13.299213   \n",
      "4           4           HP         4    2   1         7         15.598425   \n",
      "\n",
      "   CPU_frequency  RAM_GB  Storage_GB_SSD  Weight_pounds  Price Price-binned  \\\n",
      "0       0.551724       8             256        3.52800    978          Low   \n",
      "1       0.689655       4             256        4.85100    634          Low   \n",
      "2       0.931034       8             256        4.85100    946          Low   \n",
      "3       0.551724       8             128        2.69010   1244          Low   \n",
      "4       0.620690       8             256        4.21155    837          Low   \n",
      "\n",
      "   Screen-Full_HD  Screen-IPS_panel  \n",
      "0           False              True  \n",
      "1            True             False  \n",
      "2            True             False  \n",
      "3           False              True  \n",
      "4            True             False  \n"
     ]
    }
   ],
   "source": [
    "print(df.head())"
   ]
  },
  {
   "cell_type": "markdown",
   "id": "74bea95f-c96d-4162-94ef-2d2deb49266f",
   "metadata": {},
   "source": [
    "# Congratulations! You have completed the lab\n"
   ]
  },
  {
   "cell_type": "markdown",
   "id": "3175b9a1-99e5-448a-b8b2-9e6947836a35",
   "metadata": {},
   "source": [
    "## Authors\n"
   ]
  },
  {
   "cell_type": "markdown",
   "id": "dee5c59c-ed18-4cff-9e94-24865a9d2efc",
   "metadata": {},
   "source": [
    "[Abhishek Gagneja](https://www.coursera.org/instructor/~129186572)\n",
    "\n",
    "[Vicky Kuo](https://author.skills.network/instructors/vicky_kuo)\n"
   ]
  },
  {
   "cell_type": "markdown",
   "id": "0ad296e0-2ce6-45b3-a8bd-969d7a5a03f5",
   "metadata": {},
   "source": [
    "Copyright © 2023 IBM Corporation. All rights reserved.\n"
   ]
  },
  {
   "cell_type": "markdown",
   "id": "36cbeb91-9896-48b5-a075-6c55d0ca6487",
   "metadata": {},
   "source": [
    "<!--## Change Log\n"
   ]
  },
  {
   "cell_type": "markdown",
   "id": "17eae7c8-5b83-4d01-929a-d762d99e5031",
   "metadata": {},
   "source": [
    "<!--|Date (YYYY-MM-DD)|Version|Changed By|Change Description|\n",
    "|-|-|-|-|\n",
    "|2023-09-15|0.1|Abhishek Gagneja|Initial Version Created|\n",
    "|2023-09-19|0.2|Vicky Kuo|Reviewed and Revised| --!>\n"
   ]
  }
 ],
 "metadata": {
  "kernelspec": {
   "display_name": ".venv",
   "language": "python",
   "name": "python3"
  },
  "language_info": {
   "codemirror_mode": {
    "name": "ipython",
    "version": 3
   },
   "file_extension": ".py",
   "mimetype": "text/x-python",
   "name": "python",
   "nbconvert_exporter": "python",
   "pygments_lexer": "ipython3",
   "version": "3.12.3"
  },
  "prev_pub_hash": "5e3a8b7ec89f1a235ff15d33d91b7370891c708cfdc79760290db24a4cbd8f1c"
 },
 "nbformat": 4,
 "nbformat_minor": 4
}
